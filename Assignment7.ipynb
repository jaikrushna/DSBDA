{
 "cells": [
  {
   "cell_type": "code",
   "execution_count": 1,
   "id": "e39562df",
   "metadata": {},
   "outputs": [],
   "source": [
    "import pandas as pd\n",
    "import numpy as np"
   ]
  },
  {
   "cell_type": "code",
   "execution_count": 2,
   "id": "f014a810",
   "metadata": {},
   "outputs": [],
   "source": [
    "import nltk"
   ]
  },
  {
   "cell_type": "code",
   "execution_count": 3,
   "id": "471f4923",
   "metadata": {
    "scrolled": true
   },
   "outputs": [
    {
     "name": "stderr",
     "output_type": "stream",
     "text": [
      "[nltk_data] Downloading package stopwords to\n",
      "[nltk_data]     C:\\Users\\jaikrishna\\AppData\\Roaming\\nltk_data...\n",
      "[nltk_data]   Package stopwords is already up-to-date!\n",
      "[nltk_data] Downloading package punkt to\n",
      "[nltk_data]     C:\\Users\\jaikrishna\\AppData\\Roaming\\nltk_data...\n",
      "[nltk_data]   Package punkt is already up-to-date!\n",
      "[nltk_data] Downloading package wordnet to\n",
      "[nltk_data]     C:\\Users\\jaikrishna\\AppData\\Roaming\\nltk_data...\n",
      "[nltk_data]   Package wordnet is already up-to-date!\n",
      "[nltk_data] Downloading package averaged_perceptron_tagger to\n",
      "[nltk_data]     C:\\Users\\jaikrishna\\AppData\\Roaming\\nltk_data...\n",
      "[nltk_data]   Package averaged_perceptron_tagger is already up-to-\n",
      "[nltk_data]       date!\n"
     ]
    },
    {
     "data": {
      "text/plain": [
       "True"
      ]
     },
     "execution_count": 3,
     "metadata": {},
     "output_type": "execute_result"
    }
   ],
   "source": [
    "nltk.download('stopwords')\n",
    "nltk.download('punkt')\n",
    "nltk.download('wordnet')\n",
    "nltk.download('averaged_perceptron_tagger')"
   ]
  },
  {
   "cell_type": "code",
   "execution_count": 4,
   "id": "f45779f3",
   "metadata": {},
   "outputs": [],
   "source": [
    "from nltk.corpus import stopwords\n",
    "stopword = stopwords.words(\"english\")\n",
    "from nltk.stem import WordNetLemmatizer\n",
    "from nltk.stem import SnowballStemmer\n",
    "import matplotlib.pyplot as plt\n",
    "from nltk import FreqDist\n",
    "from wordcloud import WordCloud    #python -m pip install wordcloud(run this command in terminal if error occurs{No module named 'wordcloud'})"
   ]
  },
  {
   "cell_type": "code",
   "execution_count": 5,
   "id": "b8bb2d6c",
   "metadata": {},
   "outputs": [],
   "source": [
    "text =  \"A boy and a girl were playing together. The boy had a collection of marbles. The girl had some sweets with her. The boy told the girl that he will give her all his marbles in exchange for her sweets.The girlagreed.The boy kept the biggest and the most beautiful marble aside and gave the rest to the girl. The girl gave him all her sweets as she had promised.That night, the girl slept peacefully. But the boy couldn't sleep as he kept wondering if the girl had hidden some sweets from him the way he had hidden his best marble.\""
   ]
  },
  {
   "cell_type": "code",
   "execution_count": 6,
   "id": "aae2a410",
   "metadata": {},
   "outputs": [
    {
     "data": {
      "text/plain": [
       "\"a boy and a girl were playing together. the boy had a collection of marbles. the girl had some sweets with her. the boy told the girl that he will give her all his marbles in exchange for her sweets.the girlagreed.the boy kept the biggest and the most beautiful marble aside and gave the rest to the girl. the girl gave him all her sweets as she had promised.that night, the girl slept peacefully. but the boy couldn't sleep as he kept wondering if the girl had hidden some sweets from him the way he had hidden his best marble.\""
      ]
     },
     "execution_count": 6,
     "metadata": {},
     "output_type": "execute_result"
    }
   ],
   "source": [
    "text.lower()"
   ]
  },
  {
   "cell_type": "code",
   "execution_count": 7,
   "id": "e98ed8d7",
   "metadata": {},
   "outputs": [],
   "source": [
    "#Tokenization"
   ]
  },
  {
   "cell_type": "code",
   "execution_count": 8,
   "id": "3c591fc1",
   "metadata": {},
   "outputs": [
    {
     "name": "stdout",
     "output_type": "stream",
     "text": [
      "['A', 'boy', 'and', 'a', 'girl', 'were', 'playing', 'together', '.', 'The', 'boy', 'had', 'a', 'collection', 'of', 'marbles', '.', 'The', 'girl', 'had', 'some', 'sweets', 'with', 'her', '.', 'The', 'boy', 'told', 'the', 'girl', 'that', 'he', 'will', 'give', 'her', 'all', 'his', 'marbles', 'in', 'exchange', 'for', 'her', 'sweets.The', 'girlagreed.The', 'boy', 'kept', 'the', 'biggest', 'and', 'the', 'most', 'beautiful', 'marble', 'aside', 'and', 'gave', 'the', 'rest', 'to', 'the', 'girl', '.', 'The', 'girl', 'gave', 'him', 'all', 'her', 'sweets', 'as', 'she', 'had', 'promised.That', 'night', ',', 'the', 'girl', 'slept', 'peacefully', '.', 'But', 'the', 'boy', 'could', \"n't\", 'sleep', 'as', 'he', 'kept', 'wondering', 'if', 'the', 'girl', 'had', 'hidden', 'some', 'sweets', 'from', 'him', 'the', 'way', 'he', 'had', 'hidden', 'his', 'best', 'marble', '.']\n"
     ]
    }
   ],
   "source": [
    "word_token = nltk.word_tokenize(text)\n",
    "print(word_token)"
   ]
  },
  {
   "cell_type": "code",
   "execution_count": 9,
   "id": "2b3f8a1e",
   "metadata": {},
   "outputs": [
    {
     "name": "stdout",
     "output_type": "stream",
     "text": [
      "['A boy and a girl were playing together.', 'The boy had a collection of marbles.', 'The girl had some sweets with her.', 'The boy told the girl that he will give her all his marbles in exchange for her sweets.The girlagreed.The boy kept the biggest and the most beautiful marble aside and gave the rest to the girl.', 'The girl gave him all her sweets as she had promised.That night, the girl slept peacefully.', \"But the boy couldn't sleep as he kept wondering if the girl had hidden some sweets from him the way he had hidden his best marble.\"]\n"
     ]
    }
   ],
   "source": [
    "sentence_token = nltk.sent_tokenize(text)\n",
    "print(sentence_token)"
   ]
  },
  {
   "cell_type": "code",
   "execution_count": 10,
   "id": "38ecfe2e",
   "metadata": {},
   "outputs": [],
   "source": [
    "#Stopword_Removal"
   ]
  },
  {
   "cell_type": "code",
   "execution_count": 11,
   "id": "9849ec9b",
   "metadata": {},
   "outputs": [
    {
     "name": "stdout",
     "output_type": "stream",
     "text": [
      "['i', 'me', 'my', 'myself', 'we', 'our', 'ours', 'ourselves', 'you', \"you're\", \"you've\", \"you'll\", \"you'd\", 'your', 'yours', 'yourself', 'yourselves', 'he', 'him', 'his', 'himself', 'she', \"she's\", 'her', 'hers', 'herself', 'it', \"it's\", 'its', 'itself', 'they', 'them', 'their', 'theirs', 'themselves', 'what', 'which', 'who', 'whom', 'this', 'that', \"that'll\", 'these', 'those', 'am', 'is', 'are', 'was', 'were', 'be', 'been', 'being', 'have', 'has', 'had', 'having', 'do', 'does', 'did', 'doing', 'a', 'an', 'the', 'and', 'but', 'if', 'or', 'because', 'as', 'until', 'while', 'of', 'at', 'by', 'for', 'with', 'about', 'against', 'between', 'into', 'through', 'during', 'before', 'after', 'above', 'below', 'to', 'from', 'up', 'down', 'in', 'out', 'on', 'off', 'over', 'under', 'again', 'further', 'then', 'once', 'here', 'there', 'when', 'where', 'why', 'how', 'all', 'any', 'both', 'each', 'few', 'more', 'most', 'other', 'some', 'such', 'no', 'nor', 'not', 'only', 'own', 'same', 'so', 'than', 'too', 'very', 's', 't', 'can', 'will', 'just', 'don', \"don't\", 'should', \"should've\", 'now', 'd', 'll', 'm', 'o', 're', 've', 'y', 'ain', 'aren', \"aren't\", 'couldn', \"couldn't\", 'didn', \"didn't\", 'doesn', \"doesn't\", 'hadn', \"hadn't\", 'hasn', \"hasn't\", 'haven', \"haven't\", 'isn', \"isn't\", 'ma', 'mightn', \"mightn't\", 'mustn', \"mustn't\", 'needn', \"needn't\", 'shan', \"shan't\", 'shouldn', \"shouldn't\", 'wasn', \"wasn't\", 'weren', \"weren't\", 'won', \"won't\", 'wouldn', \"wouldn't\"]\n"
     ]
    }
   ],
   "source": [
    "print(stopword)"
   ]
  },
  {
   "cell_type": "code",
   "execution_count": 12,
   "id": "a2415ad0",
   "metadata": {},
   "outputs": [
    {
     "name": "stdout",
     "output_type": "stream",
     "text": [
      "['A', 'boy', 'girl', 'playing', 'together', '.', 'The', 'boy', 'collection', 'marbles', '.', 'The', 'girl', 'sweets', '.', 'The', 'boy', 'told', 'girl', 'give', 'marbles', 'exchange', 'sweets.The', 'girlagreed.The', 'boy', 'kept', 'biggest', 'beautiful', 'marble', 'aside', 'gave', 'rest', 'girl', '.', 'The', 'girl', 'gave', 'sweets', 'promised.That', 'night', ',', 'girl', 'slept', 'peacefully', '.', 'But', 'boy', 'could', \"n't\", 'sleep', 'kept', 'wondering', 'girl', 'hidden', 'sweets', 'way', 'hidden', 'best', 'marble', '.']\n"
     ]
    }
   ],
   "source": [
    "removing_stopword = [word for word in word_token if word not in stopword]\n",
    "print(removing_stopword)"
   ]
  },
  {
   "cell_type": "code",
   "execution_count": 13,
   "id": "d18a37ef",
   "metadata": {},
   "outputs": [
    {
     "name": "stdout",
     "output_type": "stream",
     "text": [
      "['A', 'boy', 'girl', 'playing', 'together', 'The', 'boy', 'collection', 'marbles', 'The', 'girl', 'sweets', 'The', 'boy', 'told', 'girl', 'give', 'marbles', 'exchange', 'boy', 'kept', 'biggest', 'beautiful', 'marble', 'aside', 'gave', 'rest', 'girl', 'The', 'girl', 'gave', 'sweets', 'night', 'girl', 'slept', 'peacefully', 'But', 'boy', 'could', 'sleep', 'kept', 'wondering', 'girl', 'hidden', 'sweets', 'way', 'hidden', 'best', 'marble']\n"
     ]
    }
   ],
   "source": [
    "word_without_punctuations = []\n",
    "for word in removing_stopword:\n",
    "    if word.isalpha():\n",
    "        word_without_punctuations.append(word)\n",
    "print(word_without_punctuations)"
   ]
  },
  {
   "cell_type": "code",
   "execution_count": 14,
   "id": "c2195bd9",
   "metadata": {},
   "outputs": [],
   "source": [
    "#Lemmatization & Stemming"
   ]
  },
  {
   "cell_type": "code",
   "execution_count": 15,
   "id": "2b0f894a",
   "metadata": {},
   "outputs": [
    {
     "name": "stdout",
     "output_type": "stream",
     "text": [
      "['A', 'boy', 'girl', 'playing', 'together', '.', 'The', 'boy', 'collection', 'marble', '.', 'The', 'girl', 'sweet', '.', 'The', 'boy', 'told', 'girl', 'give', 'marble', 'exchange', 'sweets.The', 'girlagreed.The', 'boy', 'kept', 'biggest', 'beautiful', 'marble', 'aside', 'gave', 'rest', 'girl', '.', 'The', 'girl', 'gave', 'sweet', 'promised.That', 'night', ',', 'girl', 'slept', 'peacefully', '.', 'But', 'boy', 'could', \"n't\", 'sleep', 'kept', 'wondering', 'girl', 'hidden', 'sweet', 'way', 'hidden', 'best', 'marble', '.']\n"
     ]
    }
   ],
   "source": [
    "wordnet_lemmatizer = WordNetLemmatizer()\n",
    "lemmatized_word = [wordnet_lemmatizer.lemmatize(word) for word in removing_stopword]\n",
    "print(lemmatized_word)"
   ]
  },
  {
   "cell_type": "code",
   "execution_count": 16,
   "id": "3b852898",
   "metadata": {},
   "outputs": [
    {
     "name": "stdout",
     "output_type": "stream",
     "text": [
      "['a', 'boy', 'girl', 'play', 'togeth', '.', 'the', 'boy', 'collect', 'marbl', '.', 'the', 'girl', 'sweet', '.', 'the', 'boy', 'told', 'girl', 'give', 'marbl', 'exchang', 'sweets.th', 'girlagreed.th', 'boy', 'kept', 'biggest', 'beauti', 'marbl', 'asid', 'gave', 'rest', 'girl', '.', 'the', 'girl', 'gave', 'sweet', 'promised.that', 'night', ',', 'girl', 'slept', 'peac', '.', 'but', 'boy', 'could', \"n't\", 'sleep', 'kept', 'wonder', 'girl', 'hidden', 'sweet', 'way', 'hidden', 'best', 'marbl', '.']\n"
     ]
    }
   ],
   "source": [
    "snowball_stemming = SnowballStemmer('english')\n",
    "stemming = [snowball_stemming.stem(word) for word in lemmatized_word]\n",
    "print(stemming)"
   ]
  },
  {
   "cell_type": "code",
   "execution_count": 17,
   "id": "293a2f32",
   "metadata": {},
   "outputs": [],
   "source": [
    "#POS Tagging"
   ]
  },
  {
   "cell_type": "code",
   "execution_count": 18,
   "id": "09630260",
   "metadata": {},
   "outputs": [
    {
     "name": "stdout",
     "output_type": "stream",
     "text": [
      "[('A', 'DT'), ('boy', 'NN'), ('girl', 'NN'), ('playing', 'VBG'), ('together', 'RB'), ('The', 'DT'), ('boy', 'NN'), ('collection', 'NN'), ('marbles', 'VBZ'), ('The', 'DT'), ('girl', 'NN'), ('sweets', 'VBZ'), ('The', 'DT'), ('boy', 'NN'), ('told', 'VBD'), ('girl', 'JJ'), ('give', 'JJ'), ('marbles', 'NNS'), ('exchange', 'NN'), ('boy', 'NN'), ('kept', 'VBD'), ('biggest', 'JJS'), ('beautiful', 'JJ'), ('marble', 'JJ'), ('aside', 'RB'), ('gave', 'VBD'), ('rest', 'JJS'), ('girl', 'NN'), ('The', 'DT'), ('girl', 'NN'), ('gave', 'VBD'), ('sweets', 'NNS'), ('night', 'NN'), ('girl', 'NN'), ('slept', 'VBD'), ('peacefully', 'RB'), ('But', 'CC'), ('boy', 'NNS'), ('could', 'MD'), ('sleep', 'VB'), ('kept', 'VBD'), ('wondering', 'VBG'), ('girl', 'JJ'), ('hidden', 'JJ'), ('sweets', 'NNS'), ('way', 'NN'), ('hidden', 'JJ'), ('best', 'RBS'), ('marble', 'JJ')]\n"
     ]
    }
   ],
   "source": [
    "pos_tag = nltk.pos_tag(word_without_punctuations)\n",
    "print(pos_tag)"
   ]
  },
  {
   "cell_type": "code",
   "execution_count": 19,
   "id": "4ac24347",
   "metadata": {},
   "outputs": [],
   "source": [
    "#Representation (Part 2)"
   ]
  },
  {
   "cell_type": "code",
   "execution_count": 20,
   "id": "ce821c9c",
   "metadata": {},
   "outputs": [
    {
     "data": {
      "image/png": "[encoded data removed]",
      "text/plain": [
       "<Figure size 640x480 with 1 Axes>"
      ]
     },
     "metadata": {},
     "output_type": "display_data"
    },
    {
     "data": {
      "text/plain": [
       "<Axes: xlabel='Samples', ylabel='Counts'>"
      ]
     },
     "execution_count": 20,
     "metadata": {},
     "output_type": "execute_result"
    }
   ],
   "source": [
    "freq = FreqDist(word_without_punctuations)\n",
    "freq.plot(10)"
   ]
  },
  {
   "cell_type": "code",
   "execution_count": 21,
   "id": "91e0d27d",
   "metadata": {},
   "outputs": [],
   "source": [
    "#Term Frequency-Inverse Document Frequency"
   ]
  },
  {
   "cell_type": "code",
   "execution_count": 22,
   "id": "a7cd29e6",
   "metadata": {},
   "outputs": [
    {
     "name": "stdout",
     "output_type": "stream",
     "text": [
      "\n",
      "Document 0: A boy and a girl were playing together.\n",
      " and: 0.3960516726646338\n",
      " boy: 0.28653314451018147\n",
      " girl: 0.24744428987580733\n",
      " playing: 0.4829814189264119\n",
      " together: 0.4829814189264119\n",
      " were: 0.4829814189264119\n",
      "\n",
      "Document 1: The boy had a collection of marbles.\n",
      " boy: 0.31100291285573944\n",
      " collection: 0.5242277587051534\n",
      " had: 0.31100291285573944\n",
      " marbles: 0.4298742613202718\n",
      " of: 0.5242277587051534\n",
      " the: 0.2685758921623168\n",
      "\n",
      "Document 2: The girl had some sweets with her.\n",
      " girl: 0.27864467853224395\n",
      " had: 0.32266226867043407\n",
      " her: 0.37653544503229125\n",
      " some: 0.44599004918312357\n",
      " sweets: 0.32266226867043407\n",
      " the: 0.27864467853224395\n",
      " with: 0.5438808156831709\n",
      "\n",
      "Document 3: The boy told the girl that he will give her all his marbles in exchange for her sweets.The girlagreed.The boy kept the biggest and the most beautiful marble aside and gave the rest to the girl.\n",
      " all: 0.12564469576145249\n",
      " and: 0.25128939152290497\n",
      " aside: 0.15322256571007925\n",
      " beautiful: 0.15322256571007925\n",
      " biggest: 0.15322256571007925\n",
      " boy: 0.18180137720584288\n",
      " exchange: 0.15322256571007925\n",
      " for: 0.15322256571007925\n",
      " gave: 0.12564469576145249\n",
      " girl: 0.1570000313857062\n",
      " girlagreed: 0.15322256571007925\n",
      " give: 0.15322256571007925\n",
      " he: 0.12564469576145249\n",
      " her: 0.2121557712829597\n",
      " his: 0.12564469576145249\n",
      " in: 0.15322256571007925\n",
      " kept: 0.12564469576145249\n",
      " marble: 0.12564469576145249\n",
      " marbles: 0.12564469576145249\n",
      " most: 0.15322256571007925\n",
      " rest: 0.15322256571007925\n",
      " sweets: 0.09090068860292144\n",
      " that: 0.12564469576145249\n",
      " the: 0.6280001255428248\n",
      " to: 0.15322256571007925\n",
      " told: 0.15322256571007925\n",
      " will: 0.15322256571007925\n",
      "\n",
      "Document 4: The girl gave him all her sweets as she had promised.That night, the girl slept peacefully.\n",
      " all: 0.24029723454806481\n",
      " as: 0.24029723454806481\n",
      " gave: 0.24029723454806481\n",
      " girl: 0.30026475162606137\n",
      " had: 0.17384883585748834\n",
      " her: 0.20287543705584601\n",
      " him: 0.24029723454806481\n",
      " night: 0.29304029579088015\n",
      " peacefully: 0.29304029579088015\n",
      " promised: 0.29304029579088015\n",
      " she: 0.29304029579088015\n",
      " slept: 0.29304029579088015\n",
      " sweets: 0.17384883585748834\n",
      " that: 0.24029723454806481\n",
      " the: 0.30026475162606137\n",
      "\n",
      "Document 5: But the boy couldn't sleep as he kept wondering if the girl had hidden some sweets from him the way he had hidden his best marble.\n",
      " as: 0.16929744024293256\n",
      " best: 0.20645669126710037\n",
      " boy: 0.12248232051126429\n",
      " but: 0.20645669126710037\n",
      " couldn: 0.20645669126710037\n",
      " from: 0.20645669126710037\n",
      " girl: 0.10577328103895463\n",
      " had: 0.24496464102252857\n",
      " he: 0.3385948804858651\n",
      " hidden: 0.41291338253420073\n",
      " him: 0.16929744024293256\n",
      " his: 0.16929744024293256\n",
      " if: 0.20645669126710037\n",
      " kept: 0.16929744024293256\n",
      " marble: 0.16929744024293256\n",
      " sleep: 0.20645669126710037\n",
      " some: 0.16929744024293256\n",
      " sweets: 0.12248232051126429\n",
      " the: 0.3173198431168639\n",
      " way: 0.20645669126710037\n",
      " wondering: 0.20645669126710037\n"
     ]
    }
   ],
   "source": [
    "from sklearn.feature_extraction.text import TfidfVectorizer   #pip install scikit-learn\n",
    "corpus = sentence_token\n",
    "\n",
    "# Create an instance of TfidfVectorizer\n",
    "\n",
    "vectorizer = TfidfVectorizer()\n",
    "\n",
    "# Fit and transform the corpus\n",
    "\n",
    "tfidf_matrix = vectorizer.fit_transform(corpus)\n",
    "\n",
    "# Get the feature names\n",
    "\n",
    "feature_names = vectorizer.get_feature_names_out()\n",
    "\n",
    "# Print the feature names and their TF-IDF values for each document\n",
    "\n",
    "for doc_index, doc in enumerate(corpus):\n",
    "    print()\n",
    "    print(f\"Document {doc_index}: {doc}\")\n",
    "    for feature_index, feature_name in enumerate(feature_names):\n",
    "        tfidf_value = tfidf_matrix[doc_index, feature_index]\n",
    "        if tfidf_value > 0:\n",
    "            print(f\" {feature_name}: {tfidf_value}\")"
   ]
  }
 ],
 "metadata": {
  "kernelspec": {
   "display_name": "Python 3 (ipykernel)",
   "language": "python",
   "name": "python3"
  },
  "language_info": {
   "codemirror_mode": {
    "name": "ipython",
    "version": 3
   },
   "file_extension": ".py",
   "mimetype": "text/x-python",
   "name": "python",
   "nbconvert_exporter": "python",
   "pygments_lexer": "ipython3",
   "version": "3.11.1"
  }
 },
 "nbformat": 4,
 "nbformat_minor": 5
}
