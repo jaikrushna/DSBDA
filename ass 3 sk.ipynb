{
 "cells": [
  {
   "cell_type": "code",
   "execution_count": 23,
   "id": "6c437862",
   "metadata": {},
   "outputs": [],
   "source": [
    "import numpy as np\n",
    "import pandas as pd\n",
    "import math\n"
   ]
  },
  {
   "cell_type": "code",
   "execution_count": 24,
   "id": "60528d51",
   "metadata": {},
   "outputs": [],
   "source": [
    "df=pd.read_csv('raw_data.csv')"
   ]
  },
  {
   "cell_type": "code",
   "execution_count": 25,
   "id": "5fc1be95",
   "metadata": {},
   "outputs": [
    {
     "data": {
      "text/html": [
       "<div>\n",
       "<style scoped>\n",
       "    .dataframe tbody tr th:only-of-type {\n",
       "        vertical-align: middle;\n",
       "    }\n",
       "\n",
       "    .dataframe tbody tr th {\n",
       "        vertical-align: top;\n",
       "    }\n",
       "\n",
       "    .dataframe thead th {\n",
       "        text-align: right;\n",
       "    }\n",
       "</style>\n",
       "<table border=\"1\" class=\"dataframe\">\n",
       "  <thead>\n",
       "    <tr style=\"text-align: right;\">\n",
       "      <th></th>\n",
       "      <th>math score</th>\n",
       "      <th>reading score</th>\n",
       "      <th>writing score</th>\n",
       "      <th>Placement Score</th>\n",
       "      <th>placement offer count</th>\n",
       "    </tr>\n",
       "  </thead>\n",
       "  <tbody>\n",
       "    <tr>\n",
       "      <th>0</th>\n",
       "      <td>72.000000</td>\n",
       "      <td>72.00</td>\n",
       "      <td>74.0</td>\n",
       "      <td>78.000</td>\n",
       "      <td>1</td>\n",
       "    </tr>\n",
       "    <tr>\n",
       "      <th>1</th>\n",
       "      <td>69.000000</td>\n",
       "      <td>90.00</td>\n",
       "      <td>88.0</td>\n",
       "      <td>62.125</td>\n",
       "      <td>2</td>\n",
       "    </tr>\n",
       "    <tr>\n",
       "      <th>2</th>\n",
       "      <td>90.000000</td>\n",
       "      <td>95.00</td>\n",
       "      <td>93.0</td>\n",
       "      <td>74.000</td>\n",
       "      <td>2</td>\n",
       "    </tr>\n",
       "    <tr>\n",
       "      <th>3</th>\n",
       "      <td>47.000000</td>\n",
       "      <td>57.00</td>\n",
       "      <td>77.0</td>\n",
       "      <td>78.000</td>\n",
       "      <td>1</td>\n",
       "    </tr>\n",
       "    <tr>\n",
       "      <th>4</th>\n",
       "      <td>52.285714</td>\n",
       "      <td>78.00</td>\n",
       "      <td>75.0</td>\n",
       "      <td>81.000</td>\n",
       "      <td>3</td>\n",
       "    </tr>\n",
       "    <tr>\n",
       "      <th>5</th>\n",
       "      <td>71.000000</td>\n",
       "      <td>72.25</td>\n",
       "      <td>78.0</td>\n",
       "      <td>70.000</td>\n",
       "      <td>4</td>\n",
       "    </tr>\n",
       "    <tr>\n",
       "      <th>6</th>\n",
       "      <td>12.000000</td>\n",
       "      <td>44.00</td>\n",
       "      <td>52.0</td>\n",
       "      <td>12.000</td>\n",
       "      <td>2</td>\n",
       "    </tr>\n",
       "    <tr>\n",
       "      <th>7</th>\n",
       "      <td>52.285714</td>\n",
       "      <td>65.00</td>\n",
       "      <td>67.0</td>\n",
       "      <td>49.000</td>\n",
       "      <td>1</td>\n",
       "    </tr>\n",
       "    <tr>\n",
       "      <th>8</th>\n",
       "      <td>5.000000</td>\n",
       "      <td>77.00</td>\n",
       "      <td>89.0</td>\n",
       "      <td>55.000</td>\n",
       "      <td>0</td>\n",
       "    </tr>\n",
       "  </tbody>\n",
       "</table>\n",
       "</div>"
      ],
      "text/plain": [
       "   math score  reading score  writing score  Placement Score  \\\n",
       "0   72.000000          72.00           74.0           78.000   \n",
       "1   69.000000          90.00           88.0           62.125   \n",
       "2   90.000000          95.00           93.0           74.000   \n",
       "3   47.000000          57.00           77.0           78.000   \n",
       "4   52.285714          78.00           75.0           81.000   \n",
       "5   71.000000          72.25           78.0           70.000   \n",
       "6   12.000000          44.00           52.0           12.000   \n",
       "7   52.285714          65.00           67.0           49.000   \n",
       "8    5.000000          77.00           89.0           55.000   \n",
       "\n",
       "   placement offer count  \n",
       "0                      1  \n",
       "1                      2  \n",
       "2                      2  \n",
       "3                      1  \n",
       "4                      3  \n",
       "5                      4  \n",
       "6                      2  \n",
       "7                      1  \n",
       "8                      0  "
      ]
     },
     "execution_count": 25,
     "metadata": {},
     "output_type": "execute_result"
    }
   ],
   "source": [
    "df\n"
   ]
  },
  {
   "cell_type": "code",
   "execution_count": 26,
   "id": "ad667a93",
   "metadata": {},
   "outputs": [
    {
     "data": {
      "text/html": [
       "<div>\n",
       "<style scoped>\n",
       "    .dataframe tbody tr th:only-of-type {\n",
       "        vertical-align: middle;\n",
       "    }\n",
       "\n",
       "    .dataframe tbody tr th {\n",
       "        vertical-align: top;\n",
       "    }\n",
       "\n",
       "    .dataframe thead th {\n",
       "        text-align: right;\n",
       "    }\n",
       "</style>\n",
       "<table border=\"1\" class=\"dataframe\">\n",
       "  <thead>\n",
       "    <tr style=\"text-align: right;\">\n",
       "      <th></th>\n",
       "      <th>math score</th>\n",
       "      <th>reading score</th>\n",
       "      <th>writing score</th>\n",
       "      <th>Placement Score</th>\n",
       "      <th>placement offer count</th>\n",
       "    </tr>\n",
       "  </thead>\n",
       "  <tbody>\n",
       "    <tr>\n",
       "      <th>count</th>\n",
       "      <td>9.000000</td>\n",
       "      <td>9.000000</td>\n",
       "      <td>9.0000</td>\n",
       "      <td>9.000000</td>\n",
       "      <td>9.000000</td>\n",
       "    </tr>\n",
       "    <tr>\n",
       "      <th>mean</th>\n",
       "      <td>52.285714</td>\n",
       "      <td>72.250000</td>\n",
       "      <td>77.0000</td>\n",
       "      <td>62.125000</td>\n",
       "      <td>1.777778</td>\n",
       "    </tr>\n",
       "    <tr>\n",
       "      <th>std</th>\n",
       "      <td>28.123452</td>\n",
       "      <td>15.698328</td>\n",
       "      <td>12.5499</td>\n",
       "      <td>21.791268</td>\n",
       "      <td>1.201850</td>\n",
       "    </tr>\n",
       "    <tr>\n",
       "      <th>min</th>\n",
       "      <td>5.000000</td>\n",
       "      <td>44.000000</td>\n",
       "      <td>52.0000</td>\n",
       "      <td>12.000000</td>\n",
       "      <td>0.000000</td>\n",
       "    </tr>\n",
       "    <tr>\n",
       "      <th>25%</th>\n",
       "      <td>47.000000</td>\n",
       "      <td>65.000000</td>\n",
       "      <td>74.0000</td>\n",
       "      <td>55.000000</td>\n",
       "      <td>1.000000</td>\n",
       "    </tr>\n",
       "    <tr>\n",
       "      <th>50%</th>\n",
       "      <td>52.285714</td>\n",
       "      <td>72.250000</td>\n",
       "      <td>77.0000</td>\n",
       "      <td>70.000000</td>\n",
       "      <td>2.000000</td>\n",
       "    </tr>\n",
       "    <tr>\n",
       "      <th>75%</th>\n",
       "      <td>71.000000</td>\n",
       "      <td>78.000000</td>\n",
       "      <td>88.0000</td>\n",
       "      <td>78.000000</td>\n",
       "      <td>2.000000</td>\n",
       "    </tr>\n",
       "    <tr>\n",
       "      <th>max</th>\n",
       "      <td>90.000000</td>\n",
       "      <td>95.000000</td>\n",
       "      <td>93.0000</td>\n",
       "      <td>81.000000</td>\n",
       "      <td>4.000000</td>\n",
       "    </tr>\n",
       "  </tbody>\n",
       "</table>\n",
       "</div>"
      ],
      "text/plain": [
       "       math score  reading score  writing score  Placement Score  \\\n",
       "count    9.000000       9.000000         9.0000         9.000000   \n",
       "mean    52.285714      72.250000        77.0000        62.125000   \n",
       "std     28.123452      15.698328        12.5499        21.791268   \n",
       "min      5.000000      44.000000        52.0000        12.000000   \n",
       "25%     47.000000      65.000000        74.0000        55.000000   \n",
       "50%     52.285714      72.250000        77.0000        70.000000   \n",
       "75%     71.000000      78.000000        88.0000        78.000000   \n",
       "max     90.000000      95.000000        93.0000        81.000000   \n",
       "\n",
       "       placement offer count  \n",
       "count               9.000000  \n",
       "mean                1.777778  \n",
       "std                 1.201850  \n",
       "min                 0.000000  \n",
       "25%                 1.000000  \n",
       "50%                 2.000000  \n",
       "75%                 2.000000  \n",
       "max                 4.000000  "
      ]
     },
     "execution_count": 26,
     "metadata": {},
     "output_type": "execute_result"
    }
   ],
   "source": [
    "df.describe(\n",
    ")"
   ]
  },
  {
   "cell_type": "code",
   "execution_count": 27,
   "id": "5d038b60",
   "metadata": {},
   "outputs": [],
   "source": [
    "def mean_value(variable):\n",
    "    sum_value=df[variable].sum()\n",
    "    count_value=df[variable].count()\n",
    "    return sum_value/count_value"
   ]
  },
  {
   "cell_type": "code",
   "execution_count": 28,
   "id": "3a14d8da",
   "metadata": {},
   "outputs": [
    {
     "data": {
      "text/plain": [
       "52.28571422222222"
      ]
     },
     "execution_count": 28,
     "metadata": {},
     "output_type": "execute_result"
    }
   ],
   "source": [
    "mean_value('math score')"
   ]
  },
  {
   "cell_type": "code",
   "execution_count": 29,
   "id": "29316b38",
   "metadata": {},
   "outputs": [],
   "source": [
    "def median_value(variable):\n",
    "    middle_index=math.floor(df[variable].count()/2)\n",
    "    return np.sort(df[variable])[middle_index]"
   ]
  },
  {
   "cell_type": "code",
   "execution_count": 30,
   "id": "7ccfeac2",
   "metadata": {},
   "outputs": [
    {
     "data": {
      "text/plain": [
       "52.285714"
      ]
     },
     "execution_count": 30,
     "metadata": {},
     "output_type": "execute_result"
    }
   ],
   "source": [
    "median_value('math score')"
   ]
  },
  {
   "cell_type": "code",
   "execution_count": 31,
   "id": "bd1d5c67",
   "metadata": {},
   "outputs": [
    {
     "data": {
      "text/plain": [
       "72.25"
      ]
     },
     "execution_count": 31,
     "metadata": {},
     "output_type": "execute_result"
    }
   ],
   "source": [
    "mean_value('reading score')\n"
   ]
  },
  {
   "cell_type": "code",
   "execution_count": 32,
   "id": "944a7802",
   "metadata": {},
   "outputs": [
    {
     "data": {
      "text/plain": [
       "72.25"
      ]
     },
     "execution_count": 32,
     "metadata": {},
     "output_type": "execute_result"
    }
   ],
   "source": [
    "median_value('reading score')"
   ]
  },
  {
   "cell_type": "code",
   "execution_count": 33,
   "id": "08920e70",
   "metadata": {},
   "outputs": [
    {
     "data": {
      "text/plain": [
       "77.0"
      ]
     },
     "execution_count": 33,
     "metadata": {},
     "output_type": "execute_result"
    }
   ],
   "source": [
    "mean_value('writing score')"
   ]
  },
  {
   "cell_type": "code",
   "execution_count": 34,
   "id": "3fc6a853",
   "metadata": {},
   "outputs": [
    {
     "data": {
      "text/plain": [
       "77.0"
      ]
     },
     "execution_count": 34,
     "metadata": {},
     "output_type": "execute_result"
    }
   ],
   "source": [
    "median_value('writing score')"
   ]
  },
  {
   "cell_type": "code",
   "execution_count": 42,
   "id": "d9afcf0e",
   "metadata": {},
   "outputs": [],
   "source": [
    "def std_dev(variable):\n",
    "    lst=[]\n",
    "    count_values=df[variable].count()\n",
    "    mean1=df[variable].mean()\n",
    "    for i in range(count_values):\n",
    "        sigma=(df[variable][i]-mean1)**2\n",
    "        lst.append(sigma)\n",
    "    return np.sqrt(sum(lst)/count_values)"
   ]
  },
  {
   "cell_type": "code",
   "execution_count": 43,
   "id": "7ba1ec16",
   "metadata": {},
   "outputs": [
    {
     "data": {
      "text/plain": [
       "14.800525516195549"
      ]
     },
     "execution_count": 43,
     "metadata": {},
     "output_type": "execute_result"
    }
   ],
   "source": [
    "std_dev('reading score')"
   ]
  },
  {
   "cell_type": "code",
   "execution_count": 44,
   "id": "d2c2a585",
   "metadata": {},
   "outputs": [
    {
     "data": {
      "text/plain": [
       "15.6983279364396"
      ]
     },
     "execution_count": 44,
     "metadata": {},
     "output_type": "execute_result"
    }
   ],
   "source": [
    "df['reading score'].std()"
   ]
  },
  {
   "cell_type": "code",
   "execution_count": null,
   "id": "9a270fcf",
   "metadata": {},
   "outputs": [],
   "source": []
  }
 ],
 "metadata": {
  "kernelspec": {
   "display_name": "Python 3 (ipykernel)",
   "language": "python",
   "name": "python3"
  },
  "language_info": {
   "codemirror_mode": {
    "name": "ipython",
    "version": 3
   },
   "file_extension": ".py",
   "mimetype": "text/x-python",
   "name": "python",
   "nbconvert_exporter": "python",
   "pygments_lexer": "ipython3",
   "version": "3.9.7"
  }
 },
 "nbformat": 4,
 "nbformat_minor": 5
}
